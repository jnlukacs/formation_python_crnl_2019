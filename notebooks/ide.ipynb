{
 "cells": [
  {
   "cell_type": "markdown",
   "metadata": {},
   "source": [
    "___\n",
    "#  Integrated Development Environment\n",
    "___"
   ]
  },
  {
   "cell_type": "markdown",
   "metadata": {},
   "source": [
    "Ensemble d'outils intégrés permettant de faciliter le travail du développeur (doc automatique, services, lien entre outils,..). En général :\n",
    "- éditeur de texte\n",
    "- automatisation de la doc, des tests,.. relative au langage utilisé\n",
    "- analyse du code et génération automatique\n",
    "- contrôle de version\n",
    "- ...\n",
    "\n",
    "-> à customiser !"
   ]
  },
  {
   "cell_type": "markdown",
   "metadata": {},
   "source": [
    "Exemples :\n",
    "    - Jupyter lab (IDE webisé)\n",
    "    - Atom\n",
    "    - VScode\n",
    "    - Spyder\n",
    "    - Scite (pour les vieux croutons)"
   ]
  },
  {
   "cell_type": "markdown",
   "metadata": {},
   "source": [
    "# Démos :"
   ]
  },
  {
   "cell_type": "markdown",
   "metadata": {},
   "source": [
    "# Jupyter lab\n",
    "\n",
    "lancement à distance : jupyter lab --ip 10.69.168.34 --port 8888\n",
    "\n",
    "extensions\n",
    "https://jupyterlab.readthedocs.io/en/stable/developer/extension_dev.html#developer-extensions"
   ]
  },
  {
   "cell_type": "markdown",
   "metadata": {},
   "source": [
    "# Atom\n",
    "IDE neutre (python, C, C++, ....)\n",
    "https://fr.wikipedia.org/wiki/Atom_(%C3%A9diteur_de_texte)\n",
    "\n",
    "Cross-plateforme, Open Source & gratuit\n",
    "\n",
    "Démo : ouvrir un projet, overview settings, conseils pluggin (minmap, virtualenv, script, git, hydrogen), recherche générale, raccourcis\n",
    "\n",
    "mes prefs :\n",
    "\n",
    "| Raccourics | Usage   |\n",
    "|------|------|\n",
    "|ctrl alt v|selection environnement|\n",
    "|shift ctrl b|run|\n",
    "|ctrl shift d|copie de ligne(s)|\n",
    "|ctrl shift /|commentaire de ligne(s)|\n"
   ]
  },
  {
   "cell_type": "markdown",
   "metadata": {},
   "source": [
    "# VScode  (Visual Studio Code)\n",
    "\n",
    "IDE neutre (python, C, C++, ....)\n",
    "\n",
    "Cross plateforme, Open Source & gratuit (mais so 'Microsoft')"
   ]
  },
  {
   "cell_type": "markdown",
   "metadata": {},
   "source": [
    "Raccourcis : </br>\n",
    "    https://code.visualstudio.com/shortcuts/keyboard-shortcuts-windows.pdf </br>\n",
    "    https://code.visualstudio.com/shortcuts/keyboard-shortcuts-linux.pdf\n",
    "        "
   ]
  },
  {
   "cell_type": "markdown",
   "metadata": {},
   "source": [
    "# Spyder\n",
    "\n",
    "'Matlab Style'\n",
    "\n",
    "Console ipython\n",
    "\n",
    "Exploreur de variables"
   ]
  },
  {
   "cell_type": "code",
   "execution_count": null,
   "metadata": {},
   "outputs": [],
   "source": []
  }
 ],
 "metadata": {
  "kernelspec": {
   "display_name": "Python 3",
   "language": "python",
   "name": "python3"
  },
  "language_info": {
   "codemirror_mode": {
    "name": "ipython",
    "version": 3
   },
   "file_extension": ".py",
   "mimetype": "text/x-python",
   "name": "python",
   "nbconvert_exporter": "python",
   "pygments_lexer": "ipython3",
   "version": "3.6.7"
  }
 },
 "nbformat": 4,
 "nbformat_minor": 2
}
