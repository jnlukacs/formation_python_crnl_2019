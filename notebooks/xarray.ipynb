{
 "cells": [
  {
   "cell_type": "markdown",
   "metadata": {},
   "source": [
    "![Image](./img/dataset-diagram-logo.png)"
   ]
  },
  {
   "cell_type": "markdown",
   "metadata": {},
   "source": [
    "**objectif** : puissance de pandas en N dimentions, avec labels !! </br>\n",
    "-> outils **pandas-compatibles pour tableaux multidimentionnels**"
   ]
  },
  {
   "cell_type": "markdown",
   "metadata": {},
   "source": [
    "<img src=\"./img/intro_xarray.png\">"
   ]
  },
  {
   "cell_type": "code",
   "execution_count": 2,
   "metadata": {},
   "outputs": [],
   "source": [
    "import numpy as np\n",
    "import pandas as pd\n",
    "import xarray as xr"
   ]
  },
  {
   "cell_type": "code",
   "execution_count": 3,
   "metadata": {},
   "outputs": [
    {
     "name": "stdout",
     "output_type": "stream",
     "text": [
      "<xarray.DataArray ()>\n",
      "array(2)\n"
     ]
    }
   ],
   "source": [
    "truc = xr.DataArray(np.random.randint(2, 3))\n",
    "print(truc)"
   ]
  },
  {
   "cell_type": "code",
   "execution_count": 4,
   "metadata": {},
   "outputs": [
    {
     "name": "stdout",
     "output_type": "stream",
     "text": [
      "<xarray.DataArray (x: 2, y: 3)>\n",
      "array([[3, 5, 5],\n",
      "       [1, 5, 4]])\n",
      "Coordinates:\n",
      "  * x        (x) <U1 'a' 'b'\n",
      "Dimensions without coordinates: y\n"
     ]
    }
   ],
   "source": [
    "data = xr.DataArray(np.random.randint(6, size=(2, 3)), coords={'x': ['a', 'b']}, dims=('x', 'y'))\n",
    "print(data)"
   ]
  },
  {
   "cell_type": "code",
   "execution_count": 5,
   "metadata": {},
   "outputs": [
    {
     "data": {
      "text/plain": [
       "<xarray.DataArray 'foo' (dim_0: 3)>\n",
       "array([0, 1, 2])\n",
       "Coordinates:\n",
       "  * dim_0    (dim_0) object 'a' 'b' 'c'"
      ]
     },
     "execution_count": 5,
     "metadata": {},
     "output_type": "execute_result"
    }
   ],
   "source": [
    "# On peut lui donner du pandas\n",
    "xr.DataArray(pd.Series(range(3), index=list('abc'), name='foo'))"
   ]
  },
  {
   "cell_type": "markdown",
   "metadata": {},
   "source": [
    "## Propriétés de DataArray"
   ]
  },
  {
   "cell_type": "code",
   "execution_count": 6,
   "metadata": {},
   "outputs": [
    {
     "name": "stdout",
     "output_type": "stream",
     "text": [
      "values :  [[3 5 5]\n",
      " [1 5 4]]\n",
      "dims :  ('x', 'y')\n",
      "coords :  Coordinates:\n",
      "  * x        (x) <U1 'a' 'b'\n"
     ]
    },
    {
     "data": {
      "text/plain": [
       "OrderedDict()"
      ]
     },
     "execution_count": 6,
     "metadata": {},
     "output_type": "execute_result"
    }
   ],
   "source": [
    "print('values : ', data.values)\n",
    "print('dims : ', data.dims)\n",
    "print('coords : ', data.coords)\n",
    "data.attrs  # pour métadonnées"
   ]
  },
  {
   "cell_type": "markdown",
   "metadata": {},
   "source": [
    "## Indexing"
   ]
  },
  {
   "cell_type": "code",
   "execution_count": 7,
   "metadata": {},
   "outputs": [
    {
     "name": "stdout",
     "output_type": "stream",
     "text": [
      "<xarray.DataArray (x: 2, y: 3)>\n",
      "array([[3, 5, 5],\n",
      "       [1, 5, 4]])\n",
      "Coordinates:\n",
      "  * x        (x) <U1 'a' 'b'\n",
      "Dimensions without coordinates: y\n",
      "<xarray.DataArray (x: 2, y: 3)>\n",
      "array([[3, 5, 5],\n",
      "       [1, 5, 4]])\n",
      "Coordinates:\n",
      "  * x        (x) <U1 'a' 'b'\n",
      "Dimensions without coordinates: y\n"
     ]
    }
   ],
   "source": [
    "data[[0]]   #comme dans numpy, avec index int\n",
    "data.loc['a':'b'] #comme dans pandas, avec des labels\n",
    "data.isel(x=slice(1))  #par slice : dimension + int\n",
    "data.sel(x=['a', 'b']) # dimension + label\n",
    "\n",
    "print(data)\n",
    "print(data.isel(x=slice(3)))"
   ]
  },
  {
   "cell_type": "markdown",
   "metadata": {},
   "source": [
    "## Computation"
   ]
  },
  {
   "cell_type": "code",
   "execution_count": 8,
   "metadata": {},
   "outputs": [
    {
     "data": {
      "text/plain": [
       "<xarray.DataArray (y: 3)>\n",
       "array([2. , 5. , 4.5])\n",
       "Dimensions without coordinates: y"
      ]
     },
     "execution_count": 8,
     "metadata": {},
     "output_type": "execute_result"
    }
   ],
   "source": [
    "# très similaire numpy\n",
    "data + 10\n",
    "np.sin(data)\n",
    "data.T\n",
    "data.sum()\n",
    "\n",
    "# mais on peut utiliser les noms des axes au lieu de leur numéro\n",
    "data.mean(dim='x')"
   ]
  },
  {
   "cell_type": "code",
   "execution_count": 12,
   "metadata": {},
   "outputs": [
    {
     "name": "stdout",
     "output_type": "stream",
     "text": [
      "a :  <xarray.DataArray (y: 3)>\n",
      "array([0, 0, 2])\n",
      "Coordinates:\n",
      "  * y        (y) int64 0 1 2\n",
      "b :  <xarray.DataArray (z: 4)>\n",
      "array([1, 0, 2, 3])\n",
      "Dimensions without coordinates: z\n",
      "a+b :  <xarray.DataArray (y: 3, z: 4)>\n",
      "array([[1, 0, 2, 3],\n",
      "       [1, 0, 2, 3],\n",
      "       [3, 2, 4, 5]])\n",
      "Coordinates:\n",
      "  * y        (y) int64 0 1 2\n",
      "Dimensions without coordinates: z\n"
     ]
    }
   ],
   "source": [
    "# Plus besoin de gerer l'ajout de nouvel ax (new_axis)\n",
    "a = xr.DataArray(np.random.randint(3, size=(3)), [data.coords['y']])\n",
    "b = xr.DataArray(np.random.randint(4, size=(4)), dims='z')\n",
    "\n",
    "print('a : ', a)\n",
    "print('b : ', b)\n",
    "print('a+b : ', a+b)"
   ]
  },
  {
   "cell_type": "code",
   "execution_count": 18,
   "metadata": {},
   "outputs": [
    {
     "data": {
      "text/plain": [
       "<xarray.DataArray (x: 2, y: 3)>\n",
       "array([[0, 0, 0],\n",
       "       [0, 0, 0]])\n",
       "Coordinates:\n",
       "  * x        (x) <U1 'a' 'b'\n",
       "Dimensions without coordinates: y"
      ]
     },
     "execution_count": 18,
     "metadata": {},
     "output_type": "execute_result"
    }
   ],
   "source": [
    "data - data.T"
   ]
  },
  {
   "cell_type": "code",
   "execution_count": 19,
   "metadata": {},
   "outputs": [
    {
     "data": {
      "text/plain": [
       "<xarray.DataArray (x: 1, y: 3)>\n",
       "array([[0, 0, 0]])\n",
       "Coordinates:\n",
       "  * x        (x) <U1 'a'\n",
       "Dimensions without coordinates: y"
      ]
     },
     "execution_count": 19,
     "metadata": {},
     "output_type": "execute_result"
    }
   ],
   "source": [
    "data[:-1] - data[:1]"
   ]
  },
  {
   "cell_type": "markdown",
   "metadata": {},
   "source": [
    "## GroupBy"
   ]
  },
  {
   "cell_type": "code",
   "execution_count": 22,
   "metadata": {},
   "outputs": [
    {
     "data": {
      "text/plain": [
       "<xarray.DataArray (x: 2, y: 3)>\n",
       "array([[3, 5, 5],\n",
       "       [1, 5, 4]])\n",
       "Coordinates:\n",
       "  * x        (x) <U1 'a' 'b'\n",
       "Dimensions without coordinates: y"
      ]
     },
     "metadata": {},
     "output_type": "display_data"
    },
    {
     "name": "stdout",
     "output_type": "stream",
     "text": [
      "data : \n",
      " <xarray.DataArray (x: 2, y: 3)>\n",
      "array([[3, 5, 5],\n",
      "       [1, 5, 4]])\n",
      "Coordinates:\n",
      "  * x        (x) <U1 'a' 'b'\n",
      "Dimensions without coordinates: y\n",
      "\n",
      "\n",
      "labels : \n",
      " <xarray.DataArray 'labels' (y: 3)>\n",
      "array(['E', 'F', 'E'], dtype='<U1')\n",
      "Coordinates:\n",
      "  * y        (y) int64 0 1 2\n",
      "\n",
      "\n",
      "data1 : \n",
      " <xarray.DataArray (x: 2, labels: 2)>\n",
      "array([[4. , 5. ],\n",
      "       [2.5, 5. ]])\n",
      "Coordinates:\n",
      "  * x        (x) <U1 'a' 'b'\n",
      "  * labels   (labels) object 'E' 'F'\n",
      "\n",
      "\n",
      "data2 : \n",
      " <xarray.DataArray (x: 2, y: 3)>\n",
      "array([[2, 0, 4],\n",
      "       [0, 0, 3]])\n",
      "Coordinates:\n",
      "  * x        (x) <U1 'a' 'b'\n",
      "  * y        (y) int64 0 1 2\n",
      "    labels   (y) <U1 'E' 'F' 'E'\n"
     ]
    }
   ],
   "source": [
    "display(data)\n",
    "labels = xr.DataArray(['E', 'F', 'E'], [data.coords['y']], name='labels')\n",
    "\n",
    "data1 = data.groupby(labels).mean('y')\n",
    "\n",
    "data2 = data.groupby(labels).apply(lambda x: x - x.min())\n",
    "\n",
    "print('data : \\n', data)\n",
    "print('\\n')\n",
    "print('labels : \\n', labels)\n",
    "print('\\n')\n",
    "print('data1 : \\n', data1)\n",
    "print('\\n')\n",
    "print('data2 : \\n', data2)\n"
   ]
  },
  {
   "cell_type": "markdown",
   "metadata": {},
   "source": [
    "## Pandas"
   ]
  },
  {
   "cell_type": "code",
   "execution_count": 12,
   "metadata": {},
   "outputs": [
    {
     "data": {
      "text/plain": [
       "<xarray.DataArray (x: 2, y: 3)>\n",
       "array([[0, 2, 2],\n",
       "       [0, 2, 1]])\n",
       "Coordinates:\n",
       "  * x        (x) object 'a' 'b'\n",
       "  * y        (y) int64 0 1 2"
      ]
     },
     "execution_count": 12,
     "metadata": {},
     "output_type": "execute_result"
    }
   ],
   "source": [
    "series = data.to_series()\n",
    "series.to_xarray()"
   ]
  },
  {
   "cell_type": "markdown",
   "metadata": {},
   "source": [
    "## Dataset"
   ]
  },
  {
   "cell_type": "code",
   "execution_count": 13,
   "metadata": {},
   "outputs": [
    {
     "data": {
      "text/plain": [
       "<xarray.Dataset>\n",
       "Dimensions:  (x: 2, y: 3)\n",
       "Coordinates:\n",
       "  * x        (x) <U1 'a' 'b'\n",
       "Dimensions without coordinates: y\n",
       "Data variables:\n",
       "    foo      (x, y) int64 0 2 2 0 2 1\n",
       "    bar      (x) int64 1 2\n",
       "    baz      float64 3.142"
      ]
     },
     "execution_count": 13,
     "metadata": {},
     "output_type": "execute_result"
    }
   ],
   "source": [
    "ds = xr.Dataset({'foo': data, 'bar': ('x', [1, 2]), 'baz': np.pi})\n",
    "ds"
   ]
  },
  {
   "cell_type": "code",
   "execution_count": 14,
   "metadata": {},
   "outputs": [
    {
     "data": {
      "text/plain": [
       "<xarray.DataArray 'foo' (x: 2, y: 3)>\n",
       "array([[0, 2, 2],\n",
       "       [0, 2, 1]])\n",
       "Coordinates:\n",
       "  * x        (x) <U1 'a' 'b'\n",
       "Dimensions without coordinates: y"
      ]
     },
     "execution_count": 14,
     "metadata": {},
     "output_type": "execute_result"
    }
   ],
   "source": [
    "ds['foo']"
   ]
  },
  {
   "cell_type": "markdown",
   "metadata": {},
   "source": [
    "## NetCDF"
   ]
  },
  {
   "cell_type": "code",
   "execution_count": 15,
   "metadata": {},
   "outputs": [],
   "source": [
    "ds.to_netcdf('example.nc')"
   ]
  },
  {
   "cell_type": "code",
   "execution_count": 16,
   "metadata": {},
   "outputs": [
    {
     "data": {
      "text/plain": [
       "<xarray.Dataset>\n",
       "Dimensions:  (x: 2, y: 3)\n",
       "Coordinates:\n",
       "  * x        (x) object 'a' 'b'\n",
       "Dimensions without coordinates: y\n",
       "Data variables:\n",
       "    foo      (x, y) int32 ...\n",
       "    bar      (x) int32 ...\n",
       "    baz      float64 ..."
      ]
     },
     "execution_count": 16,
     "metadata": {},
     "output_type": "execute_result"
    }
   ],
   "source": [
    "xr.open_dataset('example.nc')"
   ]
  },
  {
   "cell_type": "code",
   "execution_count": null,
   "metadata": {},
   "outputs": [],
   "source": []
  },
  {
   "cell_type": "code",
   "execution_count": null,
   "metadata": {},
   "outputs": [],
   "source": []
  }
 ],
 "metadata": {
  "kernelspec": {
   "display_name": "Python 3",
   "language": "python",
   "name": "python3"
  },
  "language_info": {
   "codemirror_mode": {
    "name": "ipython",
    "version": 3
   },
   "file_extension": ".py",
   "mimetype": "text/x-python",
   "name": "python",
   "nbconvert_exporter": "python",
   "pygments_lexer": "ipython3",
   "version": "3.6.6"
  }
 },
 "nbformat": 4,
 "nbformat_minor": 2
}
