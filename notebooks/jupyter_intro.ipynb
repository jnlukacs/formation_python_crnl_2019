{
 "cells": [
  {
   "cell_type": "markdown",
   "metadata": {},
   "source": [
    "___\n",
    "# Jupyter notebook\n",
    "___"
   ]
  },
  {
   "cell_type": "markdown",
   "metadata": {},
   "source": [
    "IPython est un **terminal interactif** (ou shell) pour Python qui propose différentes fonctionnalités\n",
    "(introspection, syntaxe additionnelle, complétion, historique,..)\n",
    "\n",
    "IPython lance un serveur (\"kernel\") qui recoit les instructions à exécuter pouvant venir d'un ou plusieurs clients, local ou distant, puis leur communique les résultats. En outre, son architecture supporte la parrallélisation interactive et collaborative des calculs.\n",
    "\n",
    "Puis IPython propose le **notebook**, du python dans du web.\n",
    "\n",
    "En 2014, le projet s'ettend à d'autres languages et devient **jupyter**. (pour Julia, Python, R,...)\n",
    "\n",
    "Cet outil réponds de manière simple aux besoins de  la **Science reproductible** (je donnes mes idées/equations/code/figures)"
   ]
  },
  {
   "cell_type": "markdown",
   "metadata": {},
   "source": [
    "**Ipython notebook / Jupiter notebook** : application web interractive permettant d'allier texte, code, formules, courbes, images et autres  médias, particuliairement adaptée aux besoins scientifiques, que l'on peut partager facilement.\n",
    "\n"
   ]
  },
  {
   "cell_type": "markdown",
   "metadata": {},
   "source": [
    "doc : \n",
    "    http://ipython.readthedocs.org/en/stable/    et    http://jupyter-notebook.readthedocs.org/en/latest/\n",
    "    "
   ]
  },
  {
   "cell_type": "markdown",
   "metadata": {},
   "source": [
    "**JupyterLab** : interface web hyper pratique pour créer de fabuleux notebooks"
   ]
  },
  {
   "cell_type": "raw",
   "metadata": {},
   "source": [
    "Exemples : lancement console python, ipython, jupyter notebook + new notebook et visu rapide interface"
   ]
  },
  {
   "cell_type": "markdown",
   "metadata": {},
   "source": [
    "# Du code"
   ]
  },
  {
   "cell_type": "code",
   "execution_count": null,
   "metadata": {},
   "outputs": [],
   "source": [
    "# Cellule de type 'code'\n",
    "data = np.ones(10)\n",
    "print(data)"
   ]
  },
  {
   "cell_type": "code",
   "execution_count": 2,
   "metadata": {},
   "outputs": [],
   "source": [
    "import numpy as np"
   ]
  },
  {
   "cell_type": "code",
   "execution_count": 3,
   "metadata": {},
   "outputs": [],
   "source": [
    "#aide interractive\n",
    "#np. + touche 'tab' \n",
    "np.array?"
   ]
  },
  {
   "cell_type": "markdown",
   "metadata": {},
   "source": [
    "# Du texte normal et stylé"
   ]
  },
  {
   "cell_type": "raw",
   "metadata": {
    "raw_mimetype": "text/latex"
   },
   "source": [
    "Je suis une cellule de texte, de type \"Raw\""
   ]
  },
  {
   "cell_type": "markdown",
   "metadata": {},
   "source": [
    "Je suis une cellule de texte, de type **Markdown**"
   ]
  },
  {
   "cell_type": "markdown",
   "metadata": {},
   "source": [
    "# Je suis un gros titre (type Heading ou Markdown + #)"
   ]
  },
  {
   "cell_type": "markdown",
   "metadata": {},
   "source": [
    "## Je suis un moyen titre"
   ]
  },
  {
   "cell_type": "markdown",
   "metadata": {},
   "source": [
    "### Je suis un petit titre"
   ]
  },
  {
   "cell_type": "markdown",
   "metadata": {},
   "source": [
    "#### Je suis un mini titre"
   ]
  },
  {
   "cell_type": "markdown",
   "metadata": {},
   "source": [
    "### 2. Cellules de type texte : mise en page\n"
   ]
  },
  {
   "cell_type": "markdown",
   "metadata": {},
   "source": [
    "**texte en gras** \n",
    "\n",
    "*texte en italique*\n",
    "\n"
   ]
  },
  {
   "cell_type": "markdown",
   "metadata": {},
   "source": [
    "Hello,\n",
    "> Je suis un blockquote.\n",
    ">\n",
    "> Et moi, le segond paragraphe du blockquote.\n",
    ">\n",
    "> ## Je suis un titre de niveau 2 de blockquote"
   ]
  },
  {
   "cell_type": "markdown",
   "metadata": {},
   "source": [
    "Une liste :\n",
    "*   du pain\n",
    "*   du vin\n",
    "*   du chocolat\n",
    "\n",
    "même chose que :\n",
    "-   du pain\n",
    "-   du vin\n",
    "-   du chocolat\n",
    "\n",
    "liste ordonnée :\n",
    "1.  Rouge\n",
    "2.  Vert\n",
    "3.  Bleu"
   ]
  },
  {
   "cell_type": "markdown",
   "metadata": {},
   "source": [
    "### 3. Insertion d'élements"
   ]
  },
  {
   "cell_type": "markdown",
   "metadata": {},
   "source": [
    "une belle image, inserée en mode texte :\n",
    "![Image](./img/images.jpeg)\n"
   ]
  },
  {
   "cell_type": "markdown",
   "metadata": {},
   "source": [
    "La même, inserée en mode code :"
   ]
  },
  {
   "cell_type": "code",
   "execution_count": 5,
   "metadata": {},
   "outputs": [
    {
     "data": {
      "image/jpeg": "[encoded data removed]",
      "text/plain": [
       "<IPython.core.display.Image object>"
      ]
     },
     "execution_count": 5,
     "metadata": {},
     "output_type": "execute_result"
    }
   ],
   "source": [
    "from IPython.display import Image\n",
    "Image(filename='./img/images.jpeg')"
   ]
  },
  {
   "cell_type": "code",
   "execution_count": 2,
   "metadata": {},
   "outputs": [
    {
     "data": {
      "text/plain": [
       "[<matplotlib.lines.Line2D at 0x7f13a0122908>]"
      ]
     },
     "execution_count": 2,
     "metadata": {},
     "output_type": "execute_result"
    },
    {
     "data": {
      "image/png": "[encoded data removed]",
      "text/plain": [
       "<Figure size 432x288 with 1 Axes>"
      ]
     },
     "metadata": {
      "needs_background": "light"
     },
     "output_type": "display_data"
    }
   ],
   "source": [
    "%matplotlib inline\n",
    "import matplotlib.pyplot as plt\n",
    "import numpy as np\n",
    "a = np.array([3., 5.6,3.3, 4.5,])\n",
    "plt.plot(a)"
   ]
  },
  {
   "cell_type": "markdown",
   "metadata": {},
   "source": [
    "Deux petites formules toutes simples :"
   ]
  },
  {
   "cell_type": "markdown",
   "metadata": {},
   "source": [
    "$$e^{i\\pi} + 1 = 0$$\n",
    "$$e^x=\\sum_{i=0}^\\infty \\frac{1}{i!}x^i$$"
   ]
  },
  {
   "cell_type": "markdown",
   "metadata": {},
   "source": [
    "Ceci est un [exemple de lien]( http://ipython.readthedocs.org/en/stable/ )."
   ]
  },
  {
   "cell_type": "markdown",
   "metadata": {},
   "source": [
    "|Ceci|est|\n",
    "|------|------|\n",
    "|un|tableau|"
   ]
  },
  {
   "cell_type": "markdown",
   "metadata": {},
   "source": [
    "Je lis une video en local\n",
    "<video controls src=\"./img/AE74 - Charmeur de serpent rouge.mp4\" />\n"
   ]
  },
  {
   "cell_type": "code",
   "execution_count": 3,
   "metadata": {},
   "outputs": [
    {
     "data": {
      "image/jpeg": "[encoded data removed]",
      "text/html": [
       "\n",
       "        <iframe\n",
       "            width=\"400\"\n",
       "            height=\"300\"\n",
       "            src=\"https://www.youtube.com/embed/jlOj2THP4xc\"\n",
       "            frameborder=\"0\"\n",
       "            allowfullscreen\n",
       "        ></iframe>\n",
       "        "
      ],
      "text/plain": [
       "<IPython.lib.display.YouTubeVideo at 0x7f13a02702e8>"
      ]
     },
     "execution_count": 3,
     "metadata": {},
     "output_type": "execute_result"
    }
   ],
   "source": [
    "# Une video sur youtube.\n",
    "from IPython.display import YouTubeVideo\n",
    "YouTubeVideo('jlOj2THP4xc')"
   ]
  },
  {
   "cell_type": "raw",
   "metadata": {},
   "source": [
    "exports : pdf, latex, slides !\n",
    "(passe par LaTeX)"
   ]
  },
  {
   "cell_type": "code",
   "execution_count": null,
   "metadata": {},
   "outputs": [],
   "source": []
  }
 ],
 "metadata": {
  "celltoolbar": "Raw Cell Format",
  "kernelspec": {
   "display_name": "Python 3",
   "language": "python",
   "name": "python3"
  },
  "language_info": {
   "codemirror_mode": {
    "name": "ipython",
    "version": 3
   },
   "file_extension": ".py",
   "mimetype": "text/x-python",
   "name": "python",
   "nbconvert_exporter": "python",
   "pygments_lexer": "ipython3",
   "version": "3.6.7"
  }
 },
 "nbformat": 4,
 "nbformat_minor": 2
}
