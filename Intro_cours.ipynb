{
 "cells": [
  {
   "cell_type": "markdown",
   "metadata": {
    "slideshow": {
     "slide_type": "slide"
    }
   },
   "source": [
    "# Python et calcul scientifique\n",
    "\n",
    "## 26, 28, 29 mars 2018\n",
    "## Alexandra Croneyllie\n",
    "## Samuel Garcia\n"
   ]
  },
  {
   "cell_type": "markdown",
   "metadata": {
    "slideshow": {
     "slide_type": "slide"
    }
   },
   "source": [
    "# Programme"
   ]
  },
  {
   "cell_type": "markdown",
   "metadata": {
    "slideshow": {
     "slide_type": "subslide"
    }
   },
   "source": [
    "\n",
    "## Mardi 26 mars 2019 9h30-17h00\n",
    "\n",
    "   * intro python/anaconda 30min Sam 9h30 - 10h00\n",
    "   * **Base_language** 1h45 Sam 10h00 - 11h45\n",
    "   * **loop_index_slice** 1h15 Alex 11h45 - 13h00\n",
    "   \n",
    "   * **numpy_base**   30 min Alex 14h00 - 14h30\n",
    "   * **numpy_indexing** 1h30 Sam 14h30 - 16h00\n",
    "   * **numpy_advance** 1h  Alex 16h00 - 17h00\n",
    "\n",
    "\n",
    "\n",
    "\n",
    "\n",
    "\n",
    "\n",
    "\n"
   ]
  },
  {
   "cell_type": "markdown",
   "metadata": {
    "slideshow": {
     "slide_type": "subslide"
    }
   },
   "source": [
    "## Mercredi 27 mars 9h30-17h00\n",
    "\n",
    "   * **jupyter/jupyterlab** 20min Alex 9h30 - 10h00\n",
    "   * **matplotlib_base** 1h Sam  10h00 - 11h00\n",
    "   * **scipy_overview.ipynb** 45min Alex 11h00 - 11h45\n",
    "   * **file_manipulation** (+os/open) 1h15   Alex 11h45 - 13h00\n",
    "   \n",
    "   * **pandas_base** 55min Sam    14h00 - 14h55\n",
    "   * **pandas_exo** 1h Sam 14h55 - 15h55\n",
    "   * **seaborn_base** 20min  Sam 15h55-16h15\n",
    "   * **xarray** 25 min Sam 16h15 - 16h40\n",
    "   * **overview IDE (spyder, vscode, atom) alex 16h40 - 17h00"
   ]
  },
  {
   "cell_type": "markdown",
   "metadata": {
    "slideshow": {
     "slide_type": "subslide"
    }
   },
   "source": [
    "\n",
    "## Jeudi 28 mars 9h30-17h00\n",
    "\n",
    "   * **Formula_statsmodels** 20 min Sam 9h30 - 9h50\n",
    "   * **python_and_R** 20 min Sam 9h50 - 10h10\n",
    "   * **neo** 25 min Sam 10h10-10h30\n",
    "   * **ephyviewer** 25 min Sam 10h30-11h00\n",
    "   * exo EEG 2h Alex  11h00-12h50\n",
    "   * **overview python module** 20min Sam 12h50-13h00\n",
    "   \n",
    "   * exo final comportement Alex/Sam:\n",
    "   \n",
    "     1. 14h00-14h30\n",
    "     2. 14h30-15h00\n",
    "     3. 15h00-15h30\n",
    "     4. 15h30-16h00\n",
    "     5. 16h00-16h30\n",
    "\n",
    "   * Bières mérités dans les quartier de rupins 19h00 - 4h00\n",
    " "
   ]
  },
  {
   "cell_type": "markdown",
   "metadata": {
    "slideshow": {
     "slide_type": "slide"
    }
   },
   "source": [
    "# Pour anticiper les réclamantions\n",
    "\n",
    "  * ça va aller un trop vite\n",
    "  * les support de court sont légers.\n",
    "  * tout ne va pas vous être utile.\n",
    "  \n"
   ]
  },
  {
   "cell_type": "markdown",
   "metadata": {
    "slideshow": {
     "slide_type": "subslide"
    }
   },
   "source": [
    "# En revanche:\n",
    "\n",
    "  * il existe de très bon support de court\n",
    "  * il y a la quantité de sucre suffissante\n",
    "  * les boissons sont offertes pas le CRNL\n",
    "  * les formateurs sont des beaux gosses\n",
    "  * si vous craquer vous pouvez abandonner sans soucis.\n"
   ]
  },
  {
   "cell_type": "markdown",
   "metadata": {
    "slideshow": {
     "slide_type": "slide"
    }
   },
   "source": [
    "# En pratique\n",
    "\n",
    "  * on prend des pauses quand on veut\n",
    "  * on a le droit de dire des gros mots quand ça bug mais pas sur la mamans\n",
    "  * pas de gobelet plastique\n",
    "  * besoin d'aide jeudi pour tout ranger\n",
    "  * attention au cable sur le sol\n",
    "  \n"
   ]
  },
  {
   "cell_type": "markdown",
   "metadata": {
    "slideshow": {
     "slide_type": "subslide"
    }
   },
   "source": [
    "# Approche pédagogique\n",
    "\n",
    " * en un seul coup donc il faut rester concentré"
   ]
  },
  {
   "cell_type": "markdown",
   "metadata": {
    "slideshow": {
     "slide_type": "slide"
    }
   },
   "source": [
    "# Historique\n",
    "\n",
    "  * Créer en 1989 par Guido Van Rossum.\n",
    "  * Version 1.5 en 1999\n",
    "  * Aujourd'hui 3.7\n",
    "  * Debut du python scientifique en 2005 par Travis Oliphant avec numpy\n",
    "  * Aujourd'hui 6e language\n",
    "  * Aujourd'hui 1er language pour l'analyse de donnée.\n"
   ]
  },
  {
   "cell_type": "markdown",
   "metadata": {
    "slideshow": {
     "slide_type": "slide"
    }
   },
   "source": [
    "# Pourquoi python:\n",
    "  * language ancien donc mur\n",
    "  * language généraliste\n",
    "  * language orienté object\n",
    "  * philosophie = simplicité de relecture du code.\n",
    "  * le même language pour web, admin, analyse data, ...\n",
    "  * libre\n",
    "  * grande commmunauté\n",
    "  * facile à enseigner\n",
    "  * y'a tout\n",
    "  * communauté qui fait dons de ses codes.\n"
   ]
  },
  {
   "cell_type": "markdown",
   "metadata": {
    "slideshow": {
     "slide_type": "slide"
    }
   },
   "source": [
    "# Idée en vrac\n",
    "\n",
    "  * un language **inteprété**\n",
    "  * Pas d'environement de développement, éditeur, debuggeur (il faut en trouver un, spyder pour nous)\n",
    "  * Peu de librairie officielle\n",
    "  * les modules scientifique sont developées indépendement\n",
    "  * Il existe plusieur interpréteur (CPython, IronPython, PyPy, Jython)\n",
    "  * On utilise le plus connu CPython\n"
   ]
  },
  {
   "cell_type": "markdown",
   "metadata": {
    "slideshow": {
     "slide_type": "slide"
    }
   },
   "source": [
    "# Installation : anaconda"
   ]
  },
  {
   "cell_type": "markdown",
   "metadata": {},
   "source": [
    "# Utilisation vscode."
   ]
  },
  {
   "cell_type": "code",
   "execution_count": null,
   "metadata": {},
   "outputs": [],
   "source": []
  }
 ],
 "metadata": {
  "celltoolbar": "Slideshow",
  "kernelspec": {
   "display_name": "Python 3",
   "language": "python",
   "name": "python3"
  },
  "language_info": {
   "codemirror_mode": {
    "name": "ipython",
    "version": 3
   },
   "file_extension": ".py",
   "mimetype": "text/x-python",
   "name": "python",
   "nbconvert_exporter": "python",
   "pygments_lexer": "ipython3",
   "version": "3.6.6"
  }
 },
 "nbformat": 4,
 "nbformat_minor": 2
}
